{
  "cells": [
    {
      "cell_type": "markdown",
      "metadata": {
        "id": "dqtBY5JQI69x"
      },
      "source": [
        "# Files, exceptional handling, logging and memory management Questions"
      ]
    },
    {
      "cell_type": "markdown",
      "metadata": {
        "id": "g-icQdMLJDi5"
      },
      "source": [
        "# **What is the difference between interpreted and compiled languages**"
      ]
    },
    {
      "cell_type": "markdown",
      "metadata": {
        "id": "5c9ieY6EJzsb"
      },
      "source": [
        "| **Compiled Language**                                               | **Interpreted Language**                            |\n",
        "| ------------------------------------------------------------------- | --------------------------------------------------- |\n",
        "| Code is **translated all at once** into machine code before running | Code is **translated and run line-by-line**         |\n",
        "| Needs a **compiler** (e.g., C, C++)                                 | Needs an **interpreter** (e.g., Python, JavaScript) |\n",
        "| Usually **faster**                                                  | Usually **slower**                                  |\n",
        "| Errors are shown **after full compilation**                         | Errors appear **as the program runs**               |\n",
        "| Produces a **separate executable file**                             | No separate file — it runs with the interpreter     |\n",
        "\n",
        "\n",
        "Think of compiled languages like baking a cake (you prep everything, then bake it all at once).\n",
        "Interpreted languages are like cooking pasta step-by-step (boil water, add pasta, stir — each step is executed immediately).\n",
        "\n"
      ]
    },
    {
      "cell_type": "markdown",
      "metadata": {
        "id": "2cjJ8-9LJ-cI"
      },
      "source": [
        "# What is exception handling in Python"
      ]
    },
    {
      "cell_type": "markdown",
      "metadata": {
        "id": "IPmvczsGKTkJ"
      },
      "source": [
        ">>Exception handling\n",
        "\n",
        "is how Python deals with errors that happen while your program is running — like dividing by zero or opening a file that doesn’t exist — without crashing your whole program.\n",
        "\n",
        "Instead of blowing up, Python lets you \"catch\" the error and respond to it gracefully.\n",
        "\n",
        "\n",
        "try:\n",
        "    # Code that might cause an error\n",
        "    result = 10 / 0\n",
        "except ZeroDivisionError:\n",
        "    # What to do if an error happens\n",
        "    print(\"You can't divide by zero!\")\n",
        "finally:\n",
        "    # This always runs, error or not\n",
        "    print(\"Done!\")\n",
        "\n",
        "\n"
      ]
    },
    {
      "cell_type": "markdown",
      "metadata": {
        "id": "vRbnVat2LmTG"
      },
      "source": [
        "# What is the purpose of the finally block in exception handling"
      ]
    },
    {
      "cell_type": "markdown",
      "metadata": {
        "id": "GXwRO_RPLshW"
      },
      "source": [
        "The finally block is used to define code that will always run, no matter what — whether an exception occurs or not.\n",
        "\n",
        "Think of it as the cleanup crew: it runs at the end of the try/except process, ensuring things like files are closed or connections are released.\n",
        "\n",
        "try:\n",
        "    # risky code\n",
        "    result = 10 / 0\n",
        "except ZeroDivisionError:\n",
        "\n",
        "    print(\"Can't divide by zero!\")\n",
        "finally:\n",
        "\n",
        "    print(\"This always runs, even if there's an error.\")\n",
        "\n",
        "\n",
        ">Clean up resources\n",
        "\n",
        "example\n",
        "Close files, release database connections, etc.    \n"
      ]
    },
    {
      "cell_type": "markdown",
      "metadata": {
        "id": "jcmwLebjMQrX"
      },
      "source": [
        "# What is logging in Python"
      ]
    },
    {
      "cell_type": "markdown",
      "metadata": {
        "id": "Lzd9vaQFMUoY"
      },
      "source": [
        "The __del__ method is a special method called a destructor. It gets automatically triggered when an object is about to be destroyed, usually when Python’s garbage collector cleans it up.\n",
        "\n",
        ">> Purpose / Significance\n",
        "\n",
        "Used for cleanup tasks: closing files, releasing resources, disconnecting from networks, etc.\n",
        "\n",
        "It's Python’s way of saying: “Before I throw this object away, anything you want to say?”\n",
        "\n",
        "\n",
        "class MyClass:\n",
        "\n",
        "    def __del__(self):\n",
        "        print(\"Object is being destroyed\")\n",
        "\n",
        "obj = MyClass()\n",
        "\n",
        "del obj     \n",
        "# Output: Object is being destroyed\n",
        "\n",
        "\n",
        "Even if you don’t call del obj, the message appears when the object is deleted automatically (like at the end of a program).\n"
      ]
    },
    {
      "cell_type": "markdown",
      "metadata": {
        "id": "Gi1LqzGaNCnp"
      },
      "source": [
        "# What is the difference between import and from ... import in Python"
      ]
    },
    {
      "cell_type": "markdown",
      "metadata": {
        "id": "ug48m4ZdNGXZ"
      },
      "source": [
        ">>Difference Between import and from ... import\n",
        "\n",
        "| Syntax                    | What it Does                                                      | Example                 |\n",
        "| ------------------------- | ----------------------------------------------------------------- | ----------------------- |\n",
        "| `import module`           | Imports the **entire module**                                     | `import math`           |\n",
        "| `from module import name` | Imports a **specific function, class, or variable** from a module | `from math import sqrt` |\n",
        "\n",
        "import module\n",
        "\n",
        "You must prefix everything with the module name:\n",
        "\n",
        "example:\n",
        "\n",
        "import math\n",
        "\n",
        "print(math.sqrt(16))  \n",
        "##Must use math.sqrt\n",
        "\n",
        ">>Good when:\n",
        "\n",
        "You want to avoid naming conflicts\n",
        "\n",
        "You’re using multiple things from the module\n",
        "\n",
        "You want clarity about where functions come from\n",
        "\n",
        "\n"
      ]
    },
    {
      "cell_type": "markdown",
      "metadata": {
        "id": "gjsjt5axOm1-"
      },
      "source": [
        "#  How can you handle multiple exceptions in Python"
      ]
    },
    {
      "cell_type": "markdown",
      "metadata": {
        "id": "d_4lOh6VPAyj"
      },
      "source": [
        ">>Handle Each Exception Separately\n",
        "\n",
        "You can chain multiple except blocks under a single try, each one catching a different exception:\n",
        "\n",
        "try:\n",
        "\n",
        "    num = int(input(\"Enter a number: \"))\n",
        "    result = 10 / num\n",
        "\n",
        "except ValueError:\n",
        "\n",
        "    print(\"Invalid input! Please enter a number.\")\n",
        "except ZeroDivisionError:\n",
        "\n",
        "    print(\"You can't divide by zero.\")\n",
        "\n",
        "\n",
        ">>Handle Multiple Exceptions in One Block\n",
        "\n",
        "If you want the same action for different error types, you can combine them using a tuple:\n",
        "\n",
        "try:\n",
        "\n",
        "    num = int(input(\"Enter a number: \"))\n",
        "    result = 10 / num\n",
        "except (ValueError, ZeroDivisionError):\n",
        "\n",
        "    print(\"Oops! Invalid input or division by zero.\")\n",
        "\n"
      ]
    },
    {
      "cell_type": "markdown",
      "metadata": {
        "id": "8gcqvX4vP1bS"
      },
      "source": [
        "# What is the purpose of the with statement when handling files in Python"
      ]
    },
    {
      "cell_type": "markdown",
      "metadata": {
        "id": "gZ_xcojrP9US"
      },
      "source": [
        ">>Purpose of the with Statement When Handling Files\n",
        "\n",
        "The with statement is used to open and work with files safely and automatically close them — even if an error occurs while you're working with the file.\n",
        "\n",
        "| Without `with`                          | With `with`                              |\n",
        "| --------------------------------------- | ---------------------------------------- |\n",
        "| You have to **manually close** the file | File is **automatically closed** for you |\n",
        "| Easier to forget `file.close()`         | No need to remember to close             |\n",
        "| Risk of **resource leaks**              | Safe, clean, and Pythonic                |\n",
        "\n",
        "example without with:\n",
        "\n",
        "file = open(\"data.txt\", \"r\")\n",
        "\n",
        "data = file.read()\n",
        "\n",
        "file.close()  # You must remember this!\n"
      ]
    },
    {
      "cell_type": "markdown",
      "metadata": {
        "id": "raTRBzR6Qo89"
      },
      "source": [
        "# What is the difference between multithreading and multiprocessing"
      ]
    },
    {
      "cell_type": "markdown",
      "metadata": {
        "id": "Nj9XsuBHQxxF"
      },
      "source": [
        ">>Multithreading vs Multiprocessing in Python (In Short)\n",
        "\n",
        "| Feature               | **Multithreading**                                | **Multiprocessing**                                       |\n",
        "| --------------------- | ------------------------------------------------- | --------------------------------------------------------- |\n",
        "| **What it uses**      | Threads (within a single process)                 | Separate processes                                        |\n",
        "| **Best for**          | I/O-bound tasks (e.g., web scraping, file I/O)    | CPU-bound tasks (e.g., heavy computation, data crunching) |\n",
        "| **Runs in**           | Shared memory space                               | Separate memory space                                     |\n",
        "| **Python Limitation** | Affected by the **GIL** (Global Interpreter Lock) | Bypasses the GIL — true parallelism                       |\n",
        "| **Overhead**          | Low (lightweight)                                 | Higher (heavier, more memory)                             |\n",
        "| **Risk**              | Thread safety issues                              | More isolated, safer from crashes                         |\n",
        "\n",
        "\n",
        "Multithreading = One chef juggling multiple dishes in the same kitchen\n",
        "\n",
        "Multiprocessing = Multiple chefs in separate kitchens, each cooking a dish"
      ]
    },
    {
      "cell_type": "markdown",
      "metadata": {
        "id": "XM6CmfHaSyIk"
      },
      "source": [
        "# What are the advantages of using logging in a program"
      ]
    },
    {
      "cell_type": "markdown",
      "metadata": {
        "id": "QQYXL3uKTGbV"
      },
      "source": [
        ">>Advantages of Using Logging in a Program (In Short)\n",
        "\n",
        "| Benefit                        | Why It Matters                                                           |\n",
        "| ------------------------------ | ------------------------------------------------------------------------ |\n",
        "| **Tracks what's happening**    | Logs help you **monitor and understand** program behavior                |\n",
        "| **Helps with debugging**       | You can trace **errors, warnings, and steps** that led to a crash        |\n",
        "| **No need for print() spam**   | Clean, configurable output — no clutter in production                    |\n",
        "| **Customizable levels**        | Show only what matters: `DEBUG`, `INFO`, `WARNING`, `ERROR`, `CRITICAL`  |\n",
        "| **Saves to files**             | Keeps a history for future review or audits                              |\n",
        "| **Works across modules**       | Centralized logging even in big, multi-file projects                     |\n",
        "| **Professional best practice** | Used in production systems for **monitoring, maintenance, and alerting** |\n",
        "\n",
        ">>print() is for you while developing.\n",
        "\n",
        "logging is for everyone else — including future you — during and after deployment."
      ]
    },
    {
      "cell_type": "markdown",
      "metadata": {
        "id": "PYas8tdRTcSF"
      },
      "source": [
        "# What is memory management in Python"
      ]
    },
    {
      "cell_type": "markdown",
      "metadata": {
        "id": "nS8gDLctTjt4"
      },
      "source": [
        ">>What Is Memory Management in Python?\n",
        "\n",
        "Memory management in Python refers to how Python handles the allocation, use, and release of memory during a program's execution — all automatically under the hood.\n",
        "\n",
        ">>Key Components of Python Memory Management\n",
        "\n",
        "| Component                         | Role                                                                                                              |\n",
        "| --------------------------------- | ----------------------------------------------------------------------------------------------------------------- |\n",
        "| **Reference Counting**            | Python tracks how many references point to an object. When it hits **zero**, the memory is freed.                 |\n",
        "| **Garbage Collector**             | Cleans up memory used by objects involved in **circular references** (like when two objects refer to each other). |\n",
        "| **Private Heap Space**            | All Python objects and variables live in a private memory area managed by the interpreter.                        |\n",
        "| **Memory Pools (via `pymalloc`)** | For performance, Python manages small chunks of memory using internal pools rather than asking the OS every time. |\n",
        "\n",
        "Automatic: You don’t need to manually allocate or free memory (unlike C/C++).\n",
        "\n",
        "Efficient: Python tries to reuse memory and avoid leaks.\n",
        "\n",
        "Safe: Helps avoid common bugs like dangling pointers or double frees.\n",
        "\n",
        "example:\n",
        "\n",
        "a = [1, 2, 3]  # Python allocates memory for the list\n",
        "\n",
        "b = a          # Reference count increases\n",
        "\n",
        "del a          # One reference gone\n",
        "\n",
        "del b          # Reference count is zero → memory freed\n",
        "\n"
      ]
    },
    {
      "cell_type": "markdown",
      "metadata": {
        "id": "OOX7OBnUYmC3"
      },
      "source": [
        "# What are the basic steps involved in exception handling in Python"
      ]
    },
    {
      "cell_type": "markdown",
      "metadata": {
        "id": "ILpHMRlSZIzd"
      },
      "source": [
        ">>Basic Steps in Exception Handling in Python\n",
        "\n",
        "| Step                         | What You Do                              | Python Syntax       |\n",
        "| ---------------------------- | ---------------------------------------- | ------------------- |\n",
        "| 1️⃣ **Try**                  | Write the code that might cause an error | `try:`              |\n",
        "| 2️⃣ **Except**               | Catch and handle specific exceptions     | `except SomeError:` |\n",
        "| 3️⃣ **Else** *(optional)*    | Run code **only if no exception** occurs | `else:`             |\n",
        "| 4️⃣ **Finally** *(optional)* | Run cleanup code **no matter what**      | `finally:`          |\n",
        "\n",
        "\n",
        "example:\n",
        "\n",
        "try:\n",
        "\n",
        "    x = int(input(\"Enter a number: \"))\n",
        "    result = 10 / x\n",
        "except ValueError:\n",
        "\n",
        "    print(\"You must enter a valid number.\")\n",
        "except ZeroDivisionError:\n",
        "\n",
        "    print(\"You can't divide by zero.\")\n",
        "else:\n",
        "\n",
        "    print(\"The result is:\", result)\n",
        "finally:\n",
        "\n",
        "    print(\"Done! This always runs.\")\n"
      ]
    },
    {
      "cell_type": "markdown",
      "metadata": {
        "id": "ZdluvhvMZ_zr"
      },
      "source": [
        "# Why is memory management important in Python"
      ]
    },
    {
      "cell_type": "markdown",
      "metadata": {
        "id": "uVrmhBHGaCNW"
      },
      "source": [
        ">>Why Is Memory Management Important in Python?\n",
        "\n",
        "Memory management is about how your program uses and releases memory efficiently. In Python, it's mostly automatic — but still important to understand, especially for performance and reliability.\n",
        "\n",
        ">>Top Reasons Why Memory Management Matters\n",
        "\n",
        "| Reason                                        | Why It’s Important                                                                              |\n",
        "| --------------------------------------------- | ----------------------------------------------------------------------------------------------- |\n",
        "| **Prevents memory leaks**                     | If objects aren't properly released, they pile up in memory, slowing down or crashing your app  |\n",
        "| **Keeps programs fast**                       | Efficient use of memory = better performance, especially in data-heavy applications             |\n",
        "| **Essential for large-scale data processing** | Handling big datasets in Pandas or NumPy requires tight control over memory usage               |\n",
        "| **Supports long-running applications**        | Servers, web apps, and background scripts need clean memory handling to avoid crashes over time |\n",
        "| **Helps avoid out-of-memory errors**          | Especially in machine learning, image processing, or streaming data                             |\n",
        "\n",
        ">>How Python Handles It (Automatically)\n",
        "\n",
        "Reference Counting: Python tracks how many references point to an object. When count = 0, it gets deleted.\n",
        "\n",
        "Garbage Collection: For objects stuck in circular references.\n",
        "\n",
        "Memory Pools: Python uses custom allocators (pymalloc) to manage small memory chunks efficiently."
      ]
    },
    {
      "cell_type": "markdown",
      "metadata": {
        "id": "83omG9FSaaAp"
      },
      "source": [
        "# What is the role of try and except in exception handling"
      ]
    },
    {
      "cell_type": "markdown",
      "metadata": {
        "id": "lUVa7nemagUg"
      },
      "source": [
        ">>What is the Role of try and except in Python?\n",
        "\n",
        "Together, try and except are the core tools for exception handling in Python. They let you catch and respond to errors during program execution — without crashing your program.\n",
        "\n",
        ">>Role of try\n",
        "\n",
        "The try block wraps code that might cause an error\n",
        "\n",
        "Python tries to run this code\n",
        "\n",
        "If no error occurs → it runs normally\n",
        "\n",
        "If an error occurs → Python jumps to the except block\n",
        "\n",
        "\n",
        "example:\n",
        "\n",
        "try:\n",
        "\n",
        "    x = int(input(\"Enter a number: \"))\n",
        "    result = 10 / x\n",
        "except ValueError:\n",
        "\n",
        "    print(\"That's not a valid number.\")\n",
        "except ZeroDivisionError:\n",
        "\n",
        "    print(\"You can't divide by zero.\")\n",
        "\n",
        "If the input is not a number → ValueError\n",
        "If the input is 0 → ZeroDivisionError\n",
        "Otherwise, the result is printed\n",
        "\n",
        "\n"
      ]
    },
    {
      "cell_type": "markdown",
      "metadata": {
        "id": "-ePsazUibDy-"
      },
      "source": [
        "#  How does Python's garbage collection system work"
      ]
    },
    {
      "cell_type": "markdown",
      "metadata": {
        "id": "fH76h8RcbKeg"
      },
      "source": [
        ">>What Is Garbage Collection in Python?\n",
        "\n",
        "Garbage collection (GC) is how Python automatically finds and deletes objects in memory that are no longer needed, freeing up memory for other use.\n",
        "\n",
        ">>How It Works — Key Concepts\n",
        "\n",
        "1. Reference Counting\n",
        "Every object in Python keeps track of how many references point to it.\n",
        "\n",
        "When that count hits zero, the object is immediately destroyed (freed from memory)\n",
        "\n",
        "a = [1, 2, 3]  # ref count = 1\n",
        "\n",
        "b = a          # ref count = 2\n",
        "\n",
        "del a          # ref count = 1\n",
        "\n",
        "del b          # ref count = 0 → object deleted\n",
        "\n",
        "2. Garbage Collector (For Circular References)\n",
        "Sometimes objects refer to each other, forming reference cycles (e.g., A → B → A). These won't be caught by reference counting alone.\n",
        "\n",
        "So Python has a cyclic garbage collector in the gc module that:\n",
        "\n",
        "Periodically scans for unreachable cycles\n",
        "\n",
        "Uses a \"generational\" system (more below)\n",
        "\n",
        "Collects and deletes these unreachable objects\n",
        "\n",
        "\n"
      ]
    },
    {
      "cell_type": "markdown",
      "metadata": {
        "id": "1P3slNArcas9"
      },
      "source": [
        "# What is the purpose of the else block in exception handling"
      ]
    },
    {
      "cell_type": "markdown",
      "metadata": {
        "id": "NhA0WiUdcvyv"
      },
      "source": [
        ">>Purpose of the else Block in Exception Handling\n",
        "\n",
        "In Python, the else block is used in try/except structures to run code only if no exception occurred in the try block.\n",
        "\n",
        ">>Think of it like this:\n",
        "\n",
        "try → Run something that might break\n",
        "\n",
        "except → Handle the error if it breaks\n",
        "\n",
        "else → Run this only if everything went smoothly\n",
        "\n",
        "finally → Run this no matter what\n",
        "\n",
        "example:\n",
        "\n",
        "try:\n",
        "\n",
        "    num = int(input(\"Enter a number: \"))\n",
        "except ValueError:\n",
        "\n",
        "    print(\"That's not a number.\")\n",
        "else:\n",
        "\n",
        "    print(f\"Success! You entered {num}.\")\n",
        "\n",
        "\n",
        "If the input is valid, else runs.\n",
        "\n",
        "If there's a ValueError, else is skipped."
      ]
    },
    {
      "cell_type": "markdown",
      "metadata": {
        "id": "B5Wf1rzGdou4"
      },
      "source": [
        "#"
      ]
    },
    {
      "cell_type": "markdown",
      "metadata": {
        "id": "ZOxRGJhHd0MA"
      },
      "source": [
        ">>Common Logging Levels in Python (from lowest to highest severity)\n",
        "\n",
        "| Level Name | Numeric Value | Used For                                                        |\n",
        "| ---------- | ------------- | --------------------------------------------------------------- |\n",
        "| `DEBUG`    | `10`          | Detailed diagnostic info for developers                         |\n",
        "| `INFO`     | `20`          | General events — program is working as expected                 |\n",
        "| `WARNING`  | `30`          | Something unexpected happened, but the program is still running |\n",
        "| `ERROR`    | `40`          | A serious problem — part of the program failed                  |\n",
        "| `CRITICAL` | `50`          | A severe error — program may not continue running               |\n",
        "\n",
        "example:\n",
        "\n",
        "import logging\n",
        "\n",
        "logging.basicConfig(level=logging.DEBUG)\n",
        "#Set the lowest level you want to log\n",
        "\n",
        "logging.debug(\"This is a debug message.\")\n",
        "\n",
        "logging.info(\"App started.\")\n",
        "\n",
        "logging.warning(\"This might be a problem.\")\n",
        "\n",
        "logging.error(\"Something went wrong!\")\n",
        "\n",
        "logging.critical(\"Major failure!\")\n",
        "\n",
        ">>Why Logging Levels Matter\n",
        "\n",
        "Helps filter what you see (e.g., only show ERROR and above in production)\n",
        "\n",
        "Makes debugging easier during development\n",
        "\n",
        "Useful for auditing or monitoring systems in production\n"
      ]
    },
    {
      "cell_type": "markdown",
      "metadata": {
        "id": "5QzXictkeazl"
      },
      "source": [
        "# What is the difference between os.fork() and multiprocessing in Python"
      ]
    },
    {
      "cell_type": "markdown",
      "metadata": {
        "id": "9RQo7pCLemNS"
      },
      "source": [
        "Both os.fork() and the multiprocessing module in Python are used to create new processes, but they are very different in how they work, where they’re used, and how safe they are.\n",
        "\n",
        "Let’s break this down clearly:\n",
        "\n",
        ">>os.fork() vs multiprocessing — In Short\n",
        "\n",
        "| Feature          | `os.fork()`                                                    | `multiprocessing`                                   |\n",
        "| ---------------- | -------------------------------------------------------------- | --------------------------------------------------- |\n",
        "| 🧠 What it does  | Creates a child process by **duplicating** the current process | Starts a **new process** using a Pythonic interface |\n",
        "| 💻 Platform      | **Unix/Linux only** (not available on Windows)                 | **Cross-platform** (works on Windows, macOS, Linux) |\n",
        "| 🔌 Communication | Manual (via pipes, sockets, etc.)                              | Built-in tools like `Queue`, `Pipe`, `Manager`      |\n",
        "| 📚 API style     | Low-level system call                                          | High-level, object-oriented API                     |\n",
        "| 🛠️ Use case     | Advanced scenarios or system-level scripting                   | General-purpose parallelism in Python apps          |\n",
        "| 🔐 Safety        | More error-prone and harder to manage                          | Safer and easier to use correctly                   |\n",
        "\n",
        "\n",
        "example:\n",
        "\n",
        "import os\n",
        "\n",
        "pid = os.fork()\n",
        "\n",
        "if pid == 0:\n",
        "\n",
        "    print(\"Child process\")\n",
        "else:\n",
        "\n",
        "    print(\"Parent process\")\n",
        "\n",
        "Parent gets the child’s PID\n",
        "\n",
        "Child gets 0\n",
        "\n",
        "You must handle synchronization, communication, and cleanup manually    \n"
      ]
    },
    {
      "cell_type": "markdown",
      "metadata": {
        "id": "bqN4kKSJfG44"
      },
      "source": [
        "# What is the importance of closing a file in Python"
      ]
    },
    {
      "cell_type": "markdown",
      "metadata": {
        "id": "_D53rAgNf48A"
      },
      "source": [
        ">>Why Is It Important to Close a File in Python?\n",
        "\n",
        "Closing a file is important because it frees up system resources, ensures data is properly saved, and helps prevent bugs or corruption — especially when you're writing to files.\n",
        "\n",
        "| Reason                                               | Why It Matters                                                                                                                                       |\n",
        "| ---------------------------------------------------- | ---------------------------------------------------------------------------------------------------------------------------------------------------- |\n",
        "| ✅ **Releases system resources**                      | Open files consume OS resources (file handles). Leaving many files open can slow down or crash programs.                                             |\n",
        "| ✅ **Flushes data to disk**                           | When writing to a file, Python keeps data in a **buffer**. `close()` flushes this buffer to the actual file. Without it, changes might not be saved! |\n",
        "| ✅ **Avoids file locking issues**                     | Some systems or apps may lock a file while it's open. Not closing it can block others from accessing it.                                             |\n",
        "| ✅ **Prevents bugs in loops or long-running scripts** | Not closing files in loops = many open files = potential crash (`Too many open files` error).                                                        |\n",
        "\n",
        "example:\n",
        "\n",
        "file = open(\"data.txt\", \"r\")\n",
        "\n",
        "#read or write something\n",
        "\n",
        "file.close()  # Must be called manually\n",
        "\n",
        "with open(\"data.txt\", \"r\") as file:\n",
        "\n",
        "    data = file.read()\n",
        "#file is automatically closed after this block\n",
        "\n"
      ]
    },
    {
      "cell_type": "markdown",
      "metadata": {
        "id": "BifI3HWxglU9"
      },
      "source": [
        "# What is the difference between file.read() and file.readline() in Python"
      ]
    },
    {
      "cell_type": "markdown",
      "metadata": {
        "id": "TEHEtZf9gt6-"
      },
      "source": [
        ">>Difference Between file.read() and file.readline()\n",
        "\n",
        "| Function          | What It Does                                                            |\n",
        "| ----------------- | ----------------------------------------------------------------------- |\n",
        "| `file.read()`     | Reads **the entire file** (or a given number of characters) **at once** |\n",
        "| `file.readline()` | Reads **one line at a time** from the file                              |\n",
        "\n",
        "1. file.read() – Read All at Once\n",
        "\n",
        "with open(\"example.txt\", \"r\") as file:\n",
        "\n",
        "    content = file.read()\n",
        "    print(content)\n",
        "\n",
        "2. file.readline() – Read One Line at a Time\n",
        "\n",
        "with open(\"example.txt\", \"r\") as file:\n",
        "\n",
        "    line1 = file.readline()\n",
        "    line2 = file.readline()\n",
        "    print(line1, line2)\n",
        "\n",
        "\n",
        "\n"
      ]
    },
    {
      "cell_type": "markdown",
      "metadata": {
        "id": "ldtOif-KiUpj"
      },
      "source": [
        "# What is the logging module in Python used for"
      ]
    },
    {
      "cell_type": "markdown",
      "metadata": {
        "id": "3tGC30z9iXQ5"
      },
      "source": [
        "The logging module in Python is a built-in tool used for tracking events and errors that happen while your program runs.\n",
        "\n",
        ">>What Is the logging Module Used For?\n",
        "\n",
        "| Purpose                         | Why It’s Important                                             |\n",
        "| ------------------------------- | -------------------------------------------------------------- |\n",
        "| ✅ **Record messages**           | Logs errors, warnings, and info messages                       |\n",
        "| ✅ **Debug and troubleshoot**    | Helps track **what went wrong** and **where**                  |\n",
        "| ✅ **Monitor long-running apps** | Useful for production environments, not just development       |\n",
        "| ✅ **Avoids `print()` overload** | More flexible and professional than scattered `print()` calls  |\n",
        "| ✅ **Save logs to files**        | Keeps a **permanent record** of what happened, when, and where |\n",
        "\n",
        "example:\n",
        "\n",
        "import logging\n",
        "\n",
        "logging.basicConfig(level=logging.INFO)\n",
        "\n",
        "logging.info(\"Program started.\")\n",
        "\n",
        "logging.warning(\"Low disk space.\")\n",
        "\n",
        "logging.error(\"Something went wrong.\")\n",
        "\n",
        "| Level      | Used For                                |\n",
        "| ---------- | --------------------------------------- |\n",
        "| `DEBUG`    | Detailed info for developers            |\n",
        "| `INFO`     | General updates or progress             |\n",
        "| `WARNING`  | Something’s not ideal, but not crashing |\n",
        "| `ERROR`    | A serious issue — something failed      |\n",
        "| `CRITICAL` | Very serious error — program may crash  |\n",
        "\n"
      ]
    },
    {
      "cell_type": "markdown",
      "metadata": {
        "id": "7WWBnmt8jJVu"
      },
      "source": [
        "# What is the os module in Python used for in file handling\n",
        "\n"
      ]
    },
    {
      "cell_type": "markdown",
      "metadata": {
        "id": "UP1aSKooj7Ft"
      },
      "source": [
        "The os module in Python is a built-in module used to interact with the operating system, especially for file and directory operations.\n",
        "\n",
        ">>What Is the os Module Used for in File Handling?\n",
        "\n",
        "It gives you tools to:\n",
        "\n",
        "Work with file paths\n",
        "\n",
        "Create, rename, delete files and folders\n",
        "\n",
        "Check if files or folders exist\n",
        "\n",
        "Get metadata like size or modification time\n",
        "\n",
        "Work across different operating systems (Windows, Linux, macOS)\n",
        "\n",
        ">>Common os Functions for File Handling\n",
        "\n",
        "| Function               | What It Does                              |\n",
        "| ---------------------- | ----------------------------------------- |\n",
        "| `os.getcwd()`          | Get current working directory             |\n",
        "| `os.chdir(path)`       | Change current directory                  |\n",
        "| `os.listdir(path)`     | List all files and folders in a directory |\n",
        "| `os.path.exists(path)` | Check if a file or folder exists          |\n",
        "| `os.remove(file)`      | Delete a file                             |\n",
        "| `os.rename(old, new)`  | Rename a file or folder                   |\n",
        "| `os.mkdir(path)`       | Create a new folder                       |\n",
        "| `os.rmdir(path)`       | Remove an empty folder                    |\n",
        "| `os.path.join(a, b)`   | Join paths in a safe, OS-independent way  |\n",
        "| `os.path.isfile(path)` | Check if the path is a file               |\n",
        "| `os.path.isdir(path)`  | Check if the path is a directory          |\n"
      ]
    },
    {
      "cell_type": "markdown",
      "metadata": {
        "id": "7xBcQD6YkYua"
      },
      "source": [
        "#  What are the challenges associated with memory management in Python"
      ]
    },
    {
      "cell_type": "markdown",
      "metadata": {
        "id": "buAoWdX_kehr"
      },
      "source": [
        ">>Top Challenges in Memory Management in Python\n",
        "\n",
        ">>Circular References\n",
        "\n",
        "Problem: When two or more objects reference each other, Python’s reference counting can’t delete them — even if they’re no longer used.\n",
        "\n",
        "example:\n",
        "\n",
        "class A:\n",
        "\n",
        "    def __init__(self):\n",
        "        self.link = self  # self-reference\n",
        "\n",
        "a = A()\n",
        "\n",
        "del a  # Doesn't delete the object immediately\n",
        "\n",
        ">>Memory Leaks\n",
        "\n",
        "Problem: Holding references to unused objects can prevent Python from freeing memory — a memory leak.\n",
        "\n",
        "Examples:\n",
        "\n",
        "Appending large objects to a list and never clearing it\n",
        "\n",
        "Caches that grow without limits\n",
        "\n",
        "Long-lived global variables\n",
        "\n",
        "Solution: Regularly clean up or use tools like weakref, or limit scope\n"
      ]
    },
    {
      "cell_type": "markdown",
      "metadata": {
        "id": "g5GZOM5tk_Ar"
      },
      "source": [
        "# How do you raise an exception manually in Python"
      ]
    },
    {
      "cell_type": "markdown",
      "metadata": {
        "id": "yfO652PLlQE8"
      },
      "source": [
        "In Python, you can raise an exception manually using the raise keyword. This is useful when you want to signal an error condition intentionally — for example, when input is invalid or a condition in your program isn't met.\n",
        "\n",
        ">>How to Raise an Exception Manually\n",
        "\n",
        "raise Exception(\"Something went wrong!\")\n",
        "\n",
        "This immediately stops the program and shows the error message — just like a built-in exception.\n",
        "\n",
        "example:\n",
        "\n",
        "def set_age(age):\n",
        "\n",
        "    if age < 0:\n",
        "        raise ValueError(\"Age cannot be negative.\")\n",
        "    print(f\"Age is set to {age}\")\n",
        "\n",
        "set_age(-5)\n",
        "\n",
        "ValueError: Age cannot be negative.\n",
        "\n"
      ]
    },
    {
      "cell_type": "markdown",
      "metadata": {
        "id": "vseIEYDNlzqw"
      },
      "source": [
        "## Why is it important to use multithreading in certain applications?"
      ]
    },
    {
      "cell_type": "markdown",
      "metadata": {
        "id": "mZEHFi9dmBQv"
      },
      "source": [
        "Multithreading is important in certain applications because it allows a program to do multiple things at the same time — which can significantly improve efficiency, responsiveness, and user experience.\n",
        "\n",
        ">>Why Use Multithreading?\n",
        "\n",
        "| Benefit                                 | Explanation                                                                                  |\n",
        "| --------------------------------------- | -------------------------------------------------------------------------------------------- |\n",
        "| **Improves responsiveness**             | Keeps apps **interactive** while doing background tasks (e.g., UI + file download)           |\n",
        "| **Handles I/O-bound tasks efficiently** | Great for apps waiting on things like **file reads**, **API calls**, or **user input**       |\n",
        "| **Reduces idle time**                   | Threads can run **while others are waiting**, making better use of time                      |\n",
        "| **Enables real-time processing**        | Useful in **games**, **audio/video apps**, or **data streams** that require constant updates |\n",
        "| **Better resource usage**               | Threads share memory space, so they're lighter than full processes                           |\n",
        "| **Supports concurrent workflows**       | Like handling **multiple users** or **client requests** in servers or chat apps              |\n",
        "\n",
        ">>Example Use Cases\n",
        "\n",
        "| App Type      | Why Multithreading Helps                                         |\n",
        "| ------------- | ---------------------------------------------------------------- |\n",
        "| Web server    | Handle multiple client requests at once                          |\n",
        "| Desktop app   | Run background tasks (like saving files) without freezing the UI |\n",
        "| Web scraper   | Fetch multiple web pages in parallel                             |\n",
        "| Game          | Keep UI, rendering, physics, and sound running simultaneously    |\n",
        "| File uploader | Upload large files while updating a progress bar                 |\n",
        "\n"
      ]
    },
    {
      "cell_type": "markdown",
      "metadata": {
        "id": "aB6vkXCWmjCA"
      },
      "source": [
        "# **Practical Questions**"
      ]
    },
    {
      "cell_type": "markdown",
      "metadata": {
        "id": "7hqPAG30uuFt"
      },
      "source": [
        "How can you open a file for writing in Python and write a string to it"
      ]
    },
    {
      "cell_type": "code",
      "execution_count": null,
      "metadata": {
        "colab": {
          "base_uri": "https://localhost:8080/"
        },
        "id": "iOKTdsZ0IqOR",
        "outputId": "29d4aed9-6712-4d90-fe48-2db76e4053d7"
      },
      "outputs": [
        {
          "name": "stdout",
          "output_type": "stream",
          "text": [
            "\n"
          ]
        }
      ],
      "source": [
        "with open(\"greeting.txt\", \"w\") as file:\n",
        "  file.write(\"Hello, I am Anu!\\n\")\n",
        "  file.write(\"student of data analyst\\n\")\n",
        "\n",
        "print()\n",
        "file.close()"
      ]
    },
    {
      "cell_type": "markdown",
      "metadata": {
        "id": "ivzEfNAlhvpH"
      },
      "source": [
        "# Write a Python program to read the contents of a file and print each line"
      ]
    },
    {
      "cell_type": "code",
      "execution_count": null,
      "metadata": {
        "colab": {
          "base_uri": "https://localhost:8080/"
        },
        "id": "q3h7L04vhzIS",
        "outputId": "c6e4ac46-453a-4700-b041-cf07d72e5924"
      },
      "outputs": [
        {
          "name": "stdout",
          "output_type": "stream",
          "text": [
            "my name is Anu RawatI am learning data analyst. \n",
            " From pwskills. \n",
            " I am learning data analyst. \n",
            " From pwskills. \n",
            "\n"
          ]
        }
      ],
      "source": [
        "file = open(\"/content/drive/MyDrive/Colab Notebooks/file.txt\", \"r\")\n",
        "content = file.read()\n",
        "\n",
        "print(content)\n",
        "file.close()"
      ]
    },
    {
      "cell_type": "markdown",
      "metadata": {
        "id": "Kz3QCWVTidzH"
      },
      "source": [
        "# How would you handle a case where the file doesn't exist while trying to open it for reading\n"
      ]
    },
    {
      "cell_type": "code",
      "execution_count": null,
      "metadata": {
        "colab": {
          "base_uri": "https://localhost:8080/"
        },
        "id": "cA2fGsxtvtQS",
        "outputId": "c64b9021-dc19-4e7b-9585-2b2bd6b1a283"
      },
      "outputs": [
        {
          "name": "stdout",
          "output_type": "stream",
          "text": [
            "Oops! The file 'file.txt' does not exist.\n"
          ]
        }
      ],
      "source": [
        "filename = \"file.txt\"\n",
        "\n",
        "try:\n",
        "    with open(filename, 'r') as file:\n",
        "        content = file.read()\n",
        "        print(content)\n",
        "except FileNotFoundError:\n",
        "    print(f\"Oops! The file '{filename}' does not exist.\")\n"
      ]
    },
    {
      "cell_type": "markdown",
      "metadata": {
        "id": "GZGC1JI1jqo5"
      },
      "source": [
        "# Write a Python script that reads from one file and writes its content to another file"
      ]
    },
    {
      "cell_type": "code",
      "execution_count": null,
      "metadata": {
        "colab": {
          "base_uri": "https://localhost:8080/"
        },
        "id": "Dz8N8KmIjh3p",
        "outputId": "1934d385-5661-4905-8212-5671ba579e24"
      },
      "outputs": [
        {
          "name": "stdout",
          "output_type": "stream",
          "text": [
            "Error: The file '/content/drive/MyDrive/Colab Notebooks/file.txt' was not found.\n"
          ]
        }
      ],
      "source": [
        "file_read = \"/content/drive/MyDrive/Colab Notebooks/file.txt\"\n",
        "file_write = \"/content/drive/MyDrive/Colab Notebooks/new.anu_12300.txt\"\n",
        "\n",
        "try:\n",
        "  with open(\"file_read\", \"r\") as file:\n",
        "    content = file.read()\n",
        "\n",
        "  with open(\"file_write\", \"w\") as file:\n",
        "    file.write(content)\n",
        "\n",
        "  print(f\" copied the content of {file_read} to {file_write}\")\n",
        "\n",
        "except FileNotFoundError:\n",
        "  print(f\"Error: The file '{file_read}' was not found.\")"
      ]
    },
    {
      "cell_type": "code",
      "execution_count": null,
      "metadata": {
        "colab": {
          "base_uri": "https://localhost:8080/"
        },
        "id": "97YOJNTmr-m-",
        "outputId": "f0d7f72c-7828-411d-ee7a-60abf9a27701"
      },
      "outputs": [
        {
          "name": "stdout",
          "output_type": "stream",
          "text": [
            "Successfully copied content from '/content/drive/MyDrive/Colab Notebooks/file.txt' to '/content/drive/MyDrive/Colab Notebooks/new.anu_12300.txt'.\n"
          ]
        }
      ],
      "source": [
        "# Define source and destination file names\n",
        "source_file = '/content/drive/MyDrive/Colab Notebooks/file.txt'\n",
        "destination_file = '/content/drive/MyDrive/Colab Notebooks/new.anu_12300.txt'\n",
        "\n",
        "try:\n",
        "    # Open the source file in read mode\n",
        "    with open(source_file, 'r') as src:\n",
        "        content = src.read()\n",
        "\n",
        "    # Open the destination file in write mode and write the content\n",
        "    with open(destination_file, 'w') as dst:\n",
        "        dst.write(content)\n",
        "\n",
        "    print(f\"Successfully copied content from '{source_file}' to '{destination_file}'.\")\n",
        "\n",
        "except FileNotFoundError:\n",
        "    print(f\"Error: The file '{source_file}' was not found.\")\n",
        "except IOError as e:\n",
        "    print(f\"An I/O error occurred: {e}\")\n"
      ]
    },
    {
      "cell_type": "markdown",
      "metadata": {
        "id": "S1DHAmG1tpH6"
      },
      "source": [
        "# How would you catch and handle division by zero error in Python"
      ]
    },
    {
      "cell_type": "code",
      "execution_count": null,
      "metadata": {
        "colab": {
          "base_uri": "https://localhost:8080/"
        },
        "id": "got1HoiZtrsA",
        "outputId": "e78e76b7-6f2b-4079-ea36-b82d8e8fb9f0"
      },
      "outputs": [
        {
          "name": "stdout",
          "output_type": "stream",
          "text": [
            "enter the number0\n",
            "cannot divided by zero\n",
            "execution completed\n"
          ]
        }
      ],
      "source": [
        "try:\n",
        "  num = int(input(\"enter the number\"))\n",
        "  result = 15/num\n",
        "except ZeroDivisionError:\n",
        "  print(\"cannot divided by zero\")\n",
        "except ValueError:\n",
        "  print(\"invalid value entered. Enter a valid number other than 0\")\n",
        "else:\n",
        "    print(result)\n",
        "finally:\n",
        "    print(\"execution completed\")"
      ]
    },
    {
      "cell_type": "markdown",
      "metadata": {
        "id": "WJzSSVMOuM8v"
      },
      "source": [
        "# Write a Python program that logs an error message to a log file when a division by zero exception occurs"
      ]
    },
    {
      "cell_type": "code",
      "execution_count": null,
      "metadata": {
        "colab": {
          "base_uri": "https://localhost:8080/"
        },
        "id": "GqR-eYouuQo_",
        "outputId": "b7d4ec4d-bed0-447a-ea50-7b5aa841b1d7"
      },
      "outputs": [
        {
          "name": "stderr",
          "output_type": "stream",
          "text": [
            "ERROR:root:Tried to divide 10 by zero. Exception: division by zero\n"
          ]
        },
        {
          "name": "stdout",
          "output_type": "stream",
          "text": [
            "Oops! You can't divide by zero.\n"
          ]
        }
      ],
      "source": [
        "import logging\n",
        "\n",
        "logging.basicConfig(\n",
        "    filename='error.log',\n",
        "    level=logging.ERROR,\n",
        "    format='%(asctime)s - %(levelname)s - %(message)s'             ##########\n",
        ")\n",
        "\n",
        "def divide(a, b):\n",
        "    try:\n",
        "        return a / b\n",
        "    except ZeroDivisionError as e:\n",
        "        logging.error(\"Tried to divide %s by zero. Exception: %s\", a, e)\n",
        "        print(\"Oops! You can't divide by zero.\")\n",
        "\n",
        "x = 10\n",
        "y = 0\n",
        "result = divide(x, y)\n"
      ]
    },
    {
      "cell_type": "markdown",
      "metadata": {
        "id": "egk4Y4YNvCzi"
      },
      "source": [
        "# How do you log information at different levels (INFO, ERROR, WARNING) in Python using the logging module"
      ]
    },
    {
      "cell_type": "code",
      "execution_count": null,
      "metadata": {
        "id": "zIZxhiS_vpdC"
      },
      "outputs": [],
      "source": [
        "import logging\n",
        "\n",
        "logging.basicConfig(\n",
        "    level=logging.DEBUG,\n",
        "    format='%(asctime)s - %(levelname)s - %(message)s',              ######\n",
        "    filename='app.log',\n",
        "    filemode='w'\n",
        ")\n",
        "\n",
        "logging.debug(\"This is a DEBUG message — for diagnosing issues.\")\n",
        "logging.info(\"This is an INFO message — general status update.\")\n",
        "logging.warning(\"This is a WARNING — something unexpected happened.\")\n",
        "logging.error(\"This is an ERROR — something failed.\")\n",
        "logging.critical(\"This is CRITICAL — serious error, app might crash.\")\n"
      ]
    },
    {
      "cell_type": "markdown",
      "metadata": {
        "id": "sHja8j-4wQbD"
      },
      "source": [
        "# Write a program to handle a file opening error using exception handling"
      ]
    },
    {
      "cell_type": "code",
      "execution_count": null,
      "metadata": {
        "colab": {
          "base_uri": "https://localhost:8080/"
        },
        "id": "zSe2p0YkwUC1",
        "outputId": "372f7df6-8661-4786-9778-9879de7633aa"
      },
      "outputs": [
        {
          "name": "stdout",
          "output_type": "stream",
          "text": [
            "Error: The file 'file.txt' was not found.\n"
          ]
        }
      ],
      "source": [
        "def read_file(filename):\n",
        "    try:\n",
        "        with open(filename, 'r') as file:\n",
        "            content = file.read()\n",
        "            print(\"File content:\\n\", content)\n",
        "    except FileNotFoundError:\n",
        "        print(f\"Error: The file '{filename}' was not found.\")\n",
        "    except PermissionError:\n",
        "        print(f\"Error: You don't have permission to read '{filename}'.\")\n",
        "    except Exception as e:\n",
        "        print(f\"An unexpected error occurred: {e}\")\n",
        "\n",
        "file_name = \"\"\n",
        "read_file(file_name)\n"
      ]
    },
    {
      "cell_type": "markdown",
      "metadata": {
        "id": "pAjx76Fcx4IE"
      },
      "source": [
        "# How can you read a file line by line and store its content in a list in Python"
      ]
    },
    {
      "cell_type": "code",
      "execution_count": null,
      "metadata": {
        "colab": {
          "base_uri": "https://localhost:8080/"
        },
        "id": "uZ3NpZTDx7--",
        "outputId": "53b92c55-2b85-447e-a21c-d85a6187eb4f"
      },
      "outputs": [
        {
          "name": "stdout",
          "output_type": "stream",
          "text": [
            "my name is Anu RawatI am learning data analyst. \n",
            "\n"
          ]
        }
      ],
      "source": [
        "file = open(\"/content/drive/MyDrive/Colab Notebooks/new.anu_12300.txt\", \"r\")\n",
        "line1 = file.readline()\n",
        "print(line1)\n"
      ]
    },
    {
      "cell_type": "code",
      "execution_count": 49,
      "metadata": {
        "id": "SEE1T7Ucy439"
      },
      "outputs": [],
      "source": [
        "line2 = file.readline()\n",
        "print(line2)\n",
        "\n",
        "file.close()"
      ]
    },
    {
      "cell_type": "markdown",
      "metadata": {
        "id": "rNWN3dBkzdmi"
      },
      "source": [
        "# How can you append data to an existing file in Python"
      ]
    },
    {
      "cell_type": "code",
      "execution_count": null,
      "metadata": {
        "colab": {
          "base_uri": "https://localhost:8080/"
        },
        "id": "ryidEgxdzTjP",
        "outputId": "518bf655-f546-4e1e-8b43-84b1e5ff320c"
      },
      "outputs": [
        {
          "name": "stdout",
          "output_type": "stream",
          "text": [
            "one day i will definitely achieve a success with the blessing of my mentor.\n",
            "with the blessing of my mentor.\n",
            "with the blessing of my mentor.\n",
            "with the blessing of my mentor.\n",
            "with the blessing of my mentor.\n",
            "\n"
          ]
        }
      ],
      "source": [
        "file = open(\"/content/drive/MyDrive/Colab Notebooks/file.txt123.txt\",\"r\")\n",
        "content = file.read()\n",
        "\n",
        "with open('/content/drive/MyDrive/Colab Notebooks/file.txt123.txt', 'a') as file:\n",
        "    file.write(\"with the blessing of my mentor.\\n\")\n",
        "\n",
        "print(content)"
      ]
    },
    {
      "cell_type": "markdown",
      "metadata": {
        "id": "ZdX5A4CY3dK8"
      },
      "source": [
        "# Write a Python program that uses a try-except block to handle an error when attempting to access a dictionary key that doesn't exist"
      ]
    },
    {
      "cell_type": "code",
      "execution_count": null,
      "metadata": {
        "id": "esBDf3-M43jF"
      },
      "outputs": [],
      "source": [
        "person = {\n",
        "    \"name\": \"Alice\",\n",
        "    \"age\": 30\n",
        "}\n",
        "\n",
        "try:\n",
        "    # Try to access a key that may not exist\n",
        "    print(\"City:\", person[\"city\"])\n",
        "except KeyError:\n",
        "    print(\"Error: The key 'city' does not exist in the dictionary.\")\n"
      ]
    },
    {
      "cell_type": "markdown",
      "metadata": {
        "id": "wM1yTrQ95bxw"
      },
      "source": [
        "# Write a program that demonstrates using multiple except blocks to handle different types of exceptions\n"
      ]
    },
    {
      "cell_type": "code",
      "execution_count": null,
      "metadata": {
        "colab": {
          "base_uri": "https://localhost:8080/"
        },
        "id": "1G-GHKmy5pQx",
        "outputId": "e56cece1-bcfc-45cf-9fe9-ddce9d654446"
      },
      "outputs": [
        {
          "name": "stdout",
          "output_type": "stream",
          "text": [
            "Enter a number: 5\n",
            "Enter another number: 2\n",
            "Result of division: 2.5\n",
            "Error: The key 'city' is missing in the dictionary.\n"
          ]
        }
      ],
      "source": [
        "# A sample dictionary\n",
        "user_info = {\"name\": \"Alex\", \"age\": 25}\n",
        "\n",
        "try:\n",
        "    # Get user input\n",
        "    num1 = int(input(\"Enter a number: \"))\n",
        "    num2 = int(input(\"Enter another number: \"))\n",
        "\n",
        "    # Perform division\n",
        "    result = num1 / num2\n",
        "    print(\"Result of division:\", result)\n",
        "\n",
        "    # Access a dictionary key\n",
        "    print(\"City:\", user_info[\"city\"])\n",
        "\n",
        "except ValueError:\n",
        "    print(\"Error: Please enter valid integers.\")\n",
        "\n",
        "except ZeroDivisionError:\n",
        "    print(\"Error: You cannot divide by zero.\")\n",
        "\n",
        "except KeyError:\n",
        "    print(\"Error: The key 'city' is missing in the dictionary.\")\n",
        "\n",
        "except Exception as e:\n",
        "    # Catch any other unexpected exceptions\n",
        "    print(\"An unexpected error occurred:\", e)\n"
      ]
    },
    {
      "cell_type": "markdown",
      "metadata": {
        "id": "3lcxbxtM6dxc"
      },
      "source": [
        "# How would you check if a file exists before attempting to read it in Python\n"
      ]
    },
    {
      "cell_type": "code",
      "execution_count": null,
      "metadata": {
        "colab": {
          "base_uri": "https://localhost:8080/"
        },
        "id": "gOYzwEjf6hJQ",
        "outputId": "37be1067-bc2f-4e48-da04-e8207ffd2d63"
      },
      "outputs": [
        {
          "name": "stdout",
          "output_type": "stream",
          "text": [
            "File content:\n",
            " my name is Anu RawatI am learning data analyst. \n",
            " From pwskills. \n",
            " I am learning data analyst. \n",
            " From pwskills. \n",
            "\n"
          ]
        }
      ],
      "source": [
        "import os\n",
        "\n",
        "filename = '/content/drive/MyDrive/Colab Notebooks/new.anu_12300.txt'\n",
        "\n",
        "if os.path.exists(filename):\n",
        "    with open(filename, 'r') as file:\n",
        "        content = file.read()\n",
        "        print(\"File content:\\n\", content)\n",
        "else:\n",
        "    print(f\"File '{filename}' does not exist.\")\n"
      ]
    },
    {
      "cell_type": "markdown",
      "metadata": {
        "id": "Cz0-oz8H7EaK"
      },
      "source": [
        "# Write a program that uses the logging module to log both informational and error messages"
      ]
    },
    {
      "cell_type": "code",
      "execution_count": null,
      "metadata": {
        "colab": {
          "base_uri": "https://localhost:8080/"
        },
        "id": "a0nF0Zmw7MHV",
        "outputId": "b68668ad-f58e-4543-8f69-de09dfd87545"
      },
      "outputs": [
        {
          "name": "stderr",
          "output_type": "stream",
          "text": [
            "ERROR:root:Attempted to divide by zero.\n"
          ]
        }
      ],
      "source": [
        "import logging\n",
        "\n",
        "# Set up basic logging configuration\n",
        "logging.basicConfig(\n",
        "    filename='app.log',           # Log file name\n",
        "    level=logging.DEBUG,          # Log everything from DEBUG and above\n",
        "    format='%(asctime)s - %(levelname)s - %(message)s'\n",
        ")\n",
        "\n",
        "# Example: log an informational message\n",
        "logging.info(\"The application has started successfully.\")\n",
        "\n",
        "# Example function that could cause an error\n",
        "def divide(a, b):\n",
        "    try:\n",
        "        result = a / b\n",
        "        logging.info(f\"Successfully divided {a} by {b}. Result: {result}\")\n",
        "        return result\n",
        "    except ZeroDivisionError:\n",
        "        logging.error(\"Attempted to divide by zero.\")\n",
        "        return None\n",
        "\n",
        "# Call the function\n",
        "divide(10, 2)\n",
        "divide(5, 0)\n",
        "\n",
        "# Log another info\n",
        "logging.info(\"Program completed.\")\n"
      ]
    },
    {
      "cell_type": "markdown",
      "metadata": {
        "id": "8VJcd_u79Opi"
      },
      "source": [
        "# Write a Python program that prints the content of a file and handles the case when the file is empty"
      ]
    },
    {
      "cell_type": "code",
      "execution_count": null,
      "metadata": {
        "colab": {
          "base_uri": "https://localhost:8080/"
        },
        "id": "6BCy4Ajr9R97",
        "outputId": "e576743f-8141-4497-ca06-df1626c88d14"
      },
      "outputs": [
        {
          "name": "stdout",
          "output_type": "stream",
          "text": [
            "File Content:\n",
            "\n",
            "my name is Anu RawatI am learning data analyst. \n",
            " From pwskills. \n",
            " I am learning data analyst. \n",
            " From pwskills. \n",
            "\n"
          ]
        }
      ],
      "source": [
        "def print_file_content(filename):\n",
        "    try:\n",
        "        with open(filename, 'r') as file:\n",
        "            content = file.read()\n",
        "\n",
        "            if content.strip():  # Check if there's any non-whitespace content\n",
        "                print(\"File Content:\\n\")\n",
        "                print(content)\n",
        "            else:\n",
        "                print(f\"The file '{filename}' is empty.\")\n",
        "    except FileNotFoundError:\n",
        "        print(f\"Error: The file '{filename}' does not exist.\")\n",
        "    except Exception as e:\n",
        "        print(f\"An unexpected error occurred: {e}\")\n",
        "\n",
        "# Example usage\n",
        "file_name = '/content/drive/MyDrive/Colab Notebooks/new.anu_12300.txt'  # Change to any file you want to test\n",
        "print_file_content(file_name)\n"
      ]
    },
    {
      "cell_type": "markdown",
      "metadata": {
        "id": "ETtKKE4D-JjB"
      },
      "source": [
        "# Demonstrate how to use memory profiling to check the memory usage of a small program"
      ]
    },
    {
      "cell_type": "code",
      "execution_count": null,
      "metadata": {
        "colab": {
          "base_uri": "https://localhost:8080/"
        },
        "id": "b6reHzvr-NQS",
        "outputId": "a8f2772b-4d05-4746-bdea-7532e11a900c"
      },
      "outputs": [
        {
          "name": "stdout",
          "output_type": "stream",
          "text": [
            "Collecting memory-profiler\n",
            "  Downloading memory_profiler-0.61.0-py3-none-any.whl.metadata (20 kB)\n",
            "Requirement already satisfied: psutil in /usr/local/lib/python3.11/dist-packages (from memory-profiler) (5.9.5)\n",
            "Downloading memory_profiler-0.61.0-py3-none-any.whl (31 kB)\n",
            "Installing collected packages: memory-profiler\n",
            "Successfully installed memory-profiler-0.61.0\n"
          ]
        }
      ],
      "source": [
        "!pip install memory-profiler\n"
      ]
    },
    {
      "cell_type": "code",
      "execution_count": null,
      "metadata": {
        "colab": {
          "base_uri": "https://localhost:8080/"
        },
        "id": "w7VTNihq1lfJ",
        "outputId": "f29ac517-94a1-4e32-f2b2-b5e06c902614"
      },
      "outputs": [
        {
          "name": "stderr",
          "output_type": "stream",
          "text": [
            "\n",
            "PYDEV DEBUGGER WARNING:\n",
            "sys.settrace() should not be used when the debugger is being used.\n",
            "This may cause the debugger to stop working correctly.\n",
            "If this is needed, please check: \n",
            "http://pydev.blogspot.com/2007/06/why-cant-pydev-debugger-work-with.html\n",
            "to see how to restore the debug tracing back correctly.\n",
            "Call Location:\n",
            "  File \"/usr/local/lib/python3.11/dist-packages/memory_profiler.py\", line 847, in enable\n",
            "    sys.settrace(self.trace_memory_usage)\n",
            "\n"
          ]
        },
        {
          "name": "stdout",
          "output_type": "stream",
          "text": [
            "ERROR: Could not find file /tmp/ipython-input-33-1108706070.py\n"
          ]
        },
        {
          "name": "stderr",
          "output_type": "stream",
          "text": [
            "\n",
            "PYDEV DEBUGGER WARNING:\n",
            "sys.settrace() should not be used when the debugger is being used.\n",
            "This may cause the debugger to stop working correctly.\n",
            "If this is needed, please check: \n",
            "http://pydev.blogspot.com/2007/06/why-cant-pydev-debugger-work-with.html\n",
            "to see how to restore the debug tracing back correctly.\n",
            "Call Location:\n",
            "  File \"/usr/local/lib/python3.11/dist-packages/memory_profiler.py\", line 850, in disable\n",
            "    sys.settrace(self._original_trace_function)\n",
            "\n"
          ]
        },
        {
          "name": "stdout",
          "output_type": "stream",
          "text": [
            "Sum: 333332833333500000\n"
          ]
        }
      ],
      "source": [
        "from memory_profiler import profile\n",
        "\n",
        "@profile\n",
        "def create_large_list():\n",
        "    # Simulate memory usage\n",
        "    big_list = [x ** 2 for x in range(10**6)]\n",
        "    return sum(big_list)\n",
        "\n",
        "if __name__ == '__main__':\n",
        "    result = create_large_list()\n",
        "    print(\"Sum:\", result)\n"
      ]
    },
    {
      "cell_type": "markdown",
      "metadata": {
        "id": "wwb7Cv2dA_DN"
      },
      "source": [
        "#  Write a Python program to create and write a list of numbers to a file, one number per line"
      ]
    },
    {
      "cell_type": "code",
      "execution_count": null,
      "metadata": {
        "colab": {
          "base_uri": "https://localhost:8080/"
        },
        "id": "uEELIa6ZBBRL",
        "outputId": "79ff5734-0aa5-49e4-ba39-de9318b5ac7e"
      },
      "outputs": [
        {
          "name": "stdout",
          "output_type": "stream",
          "text": [
            "Successfully wrote 10 numbers to '/content/drive/MyDrive/Colab Notebooks/number.txt'.\n"
          ]
        }
      ],
      "source": [
        "numbers = [1, 2, 3, 4, 5, 6, 7, 8, 9, 10]\n",
        "\n",
        "# File to write to\n",
        "filename = '/content/drive/MyDrive/Colab Notebooks/number.txt'\n",
        "\n",
        "try:\n",
        "    with open('/content/drive/MyDrive/Colab Notebooks/number.txt', 'w') as file:\n",
        "        for i in numbers:\n",
        "            file.write(f\"{i}\\n\")\n",
        "\n",
        "    print(f\"Successfully wrote {len(numbers)} numbers to '{filename}'.\")\n",
        "\n",
        "except Exception as e:\n",
        "    print(f\"An error occurred: {e}\")\n"
      ]
    },
    {
      "cell_type": "markdown",
      "metadata": {
        "id": "kcXmONFOGSCW"
      },
      "source": [
        "#  How would you implement a basic logging setup that logs to a file with rotation after 1MB"
      ]
    },
    {
      "cell_type": "code",
      "execution_count": 42,
      "metadata": {
        "colab": {
          "base_uri": "https://localhost:8080/"
        },
        "id": "AMR6p98wGuLi",
        "outputId": "d82e5a31-2b1c-49e5-bcd9-8e85c79196f1"
      },
      "outputs": [
        {
          "output_type": "stream",
          "name": "stderr",
          "text": [
            "INFO:my_rotating_logger:This is log message #0\n",
            "INFO:my_rotating_logger:This is log message #1\n",
            "INFO:my_rotating_logger:This is log message #2\n",
            "INFO:my_rotating_logger:This is log message #3\n",
            "INFO:my_rotating_logger:This is log message #4\n",
            "INFO:my_rotating_logger:This is log message #5\n",
            "INFO:my_rotating_logger:This is log message #6\n",
            "INFO:my_rotating_logger:This is log message #7\n",
            "INFO:my_rotating_logger:This is log message #8\n",
            "INFO:my_rotating_logger:This is log message #9\n"
          ]
        }
      ],
      "source": [
        "import logging\n",
        "from logging.handlers import RotatingFileHandler\n",
        "\n",
        "# Set up a rotating logger\n",
        "log_file = 'my_app.log'\n",
        "\n",
        "# Create a rotating file handler: 1MB max size, 3 backup files\n",
        "handler = RotatingFileHandler(\n",
        "    log_file,\n",
        "    maxBytes=1 * 1024 * 1024,  # 1 MB\n",
        "    backupCount=3              # Keep up to 3 old log files\n",
        ")\n",
        "\n",
        "# Set log format\n",
        "formatter = logging.Formatter('%(asctime)s - %(levelname)s - %(message)s')\n",
        "handler.setFormatter(formatter)\n",
        "\n",
        "# Create a logger and attach the handler\n",
        "logger = logging.getLogger('my_rotating_logger')\n",
        "logger.setLevel(logging.DEBUG)     # Log everything from DEBUG and up\n",
        "logger.addHandler(handler)\n",
        "\n",
        "# Example: Write some logs\n",
        "for i in range(10):\n",
        "    logger.info(f\"This is log message #{i}\")\n"
      ]
    },
    {
      "cell_type": "markdown",
      "metadata": {
        "id": "1aQYgZyhG5ap"
      },
      "source": [
        "#  Write a program that handles both IndexError and KeyError using a try-except block"
      ]
    },
    {
      "cell_type": "code",
      "execution_count": 43,
      "metadata": {
        "id": "91oRRmaTG_4s",
        "colab": {
          "base_uri": "https://localhost:8080/"
        },
        "outputId": "c8c5b0b1-633a-4134-8841-aaf3a1488b0f"
      },
      "outputs": [
        {
          "output_type": "stream",
          "name": "stdout",
          "text": [
            "Error: Tried to access an index that doesn't exist in the list.\n"
          ]
        }
      ],
      "source": [
        "def access_data():\n",
        "    my_list = [10, 20, 30]\n",
        "    my_dict = {\"name\": \"Alice\", \"age\": 25}\n",
        "\n",
        "    try:\n",
        "        # This will raise IndexError\n",
        "        print(\"List value:\", my_list[5])\n",
        "\n",
        "        # This will raise KeyError\n",
        "        print(\"City:\", my_dict[\"city\"])\n",
        "\n",
        "    except IndexError:\n",
        "        print(\"Error: Tried to access an index that doesn't exist in the list.\")\n",
        "\n",
        "    except KeyError:\n",
        "        print(\"Error: Tried to access a key that doesn't exist in the dictionary.\")\n",
        "\n",
        "    except Exception as e:\n",
        "        print(f\"An unexpected error occurred: {e}\")\n",
        "\n",
        "# Run the function\n",
        "access_data()\n"
      ]
    },
    {
      "cell_type": "markdown",
      "source": [
        "# How would you open a file and read its contents using a context manager in Python"
      ],
      "metadata": {
        "id": "5UqsORTiH3GD"
      }
    },
    {
      "cell_type": "code",
      "source": [
        "# Define the filename\n",
        "filename = '/content/drive/MyDrive/Colab Notebooks/new.anu_12300.txt'\n",
        "\n",
        "# Open the file using a context manager and read its contents\n",
        "try:\n",
        "    with open(filename, 'r') as file:\n",
        "        content = file.read()\n",
        "        print(\"File contents:\\n\")\n",
        "        print(content)\n",
        "\n",
        "except FileNotFoundError:\n",
        "    print(f\"Error: The file '{filename}' was not found.\")\n",
        "except Exception as e:\n",
        "    print(f\"An error occurred: {e}\")\n"
      ],
      "metadata": {
        "colab": {
          "base_uri": "https://localhost:8080/"
        },
        "id": "lJfhAxmcIHej",
        "outputId": "4ab5bad3-4b17-44c3-def1-0c23e08fe054"
      },
      "execution_count": 44,
      "outputs": [
        {
          "output_type": "stream",
          "name": "stdout",
          "text": [
            "File contents:\n",
            "\n",
            "my name is Anu RawatI am learning data analyst. \n",
            " From pwskills. \n",
            " I am learning data analyst. \n",
            " From pwskills. \n",
            "\n"
          ]
        }
      ]
    },
    {
      "cell_type": "markdown",
      "source": [
        "# Write a Python program that reads a file and prints the number of occurrences of a specific word\n"
      ],
      "metadata": {
        "id": "EsKjxUHGJOcm"
      }
    },
    {
      "cell_type": "code",
      "source": [
        "def count_word_occurrences(filename, target_word):\n",
        "    try:\n",
        "        with open('/content/drive/MyDrive/Colab Notebooks/new.anu_12300.txt', 'r') as file:\n",
        "            content = file.read()\n",
        "\n",
        "            # Normalize case and split words\n",
        "            words = content.lower().split()\n",
        "            word_count = words.count(target_word.lower())\n",
        "\n",
        "            print(f\"The word '{target_word}' appears {word_count} time(s) in '{filename}'.\")\n",
        "\n",
        "    except FileNotFoundError:\n",
        "        print(f\"Error: The file '{filename}' was not found.\")\n",
        "    except Exception as e:\n",
        "        print(f\"An unexpected error occurred: {e}\")\n",
        "\n",
        "# Example usage\n",
        "file_name = '/content/drive/MyDrive/Colab Notebooks/new.anu_12300.txt'        # Replace with your actual file\n",
        "word_to_search = 'python'        # Replace with the word you want to count\n",
        "count_word_occurrences(file_name, word_to_search)\n"
      ],
      "metadata": {
        "colab": {
          "base_uri": "https://localhost:8080/"
        },
        "id": "k8_tvBXNJRu1",
        "outputId": "f78c8a9a-7513-4f40-9976-9f47ad055219"
      },
      "execution_count": 45,
      "outputs": [
        {
          "output_type": "stream",
          "name": "stdout",
          "text": [
            "The word 'python' appears 0 time(s) in '/content/drive/MyDrive/Colab Notebooks/new.anu_12300.txt'.\n"
          ]
        }
      ]
    },
    {
      "cell_type": "markdown",
      "source": [
        "# How can you check if a file is empty before attempting to read its contents"
      ],
      "metadata": {
        "id": "Odd303OmJ7e4"
      }
    },
    {
      "cell_type": "code",
      "source": [
        "import os\n",
        "\n",
        "filename = '/content/drive/MyDrive/Colab Notebooks/new.anu_123.txt'\n",
        "\n",
        "if os.path.exists(filename):\n",
        "    if os.path.getsize(filename) == 0:\n",
        "        print(f\"The file '{filename}' is empty.\")\n",
        "    else:\n",
        "        with open(filename, 'r') as file:\n",
        "            content = file.read()\n",
        "            print(\"File content:\\n\", content)\n",
        "else:\n",
        "    print(f\"The file '{filename}' does not exist.\")\n"
      ],
      "metadata": {
        "colab": {
          "base_uri": "https://localhost:8080/"
        },
        "id": "lo2HzBERKAAm",
        "outputId": "953f3cf7-a34f-44fa-a1fe-85e238e2e9a8"
      },
      "execution_count": 47,
      "outputs": [
        {
          "output_type": "stream",
          "name": "stdout",
          "text": [
            "The file '/content/drive/MyDrive/Colab Notebooks/new.anu_123.txt' does not exist.\n"
          ]
        }
      ]
    },
    {
      "cell_type": "markdown",
      "source": [
        "# Write a Python program that writes to a log file when an error occurs during file handling."
      ],
      "metadata": {
        "id": "nZ1s1axbKeF6"
      }
    },
    {
      "cell_type": "code",
      "source": [
        "import logging\n",
        "\n",
        "# Configure logging\n",
        "logging.basicConfig(\n",
        "    filename='file_errors.log',       # Log file name\n",
        "    level=logging.ERROR,              # Log only errors and above\n",
        "    format='%(asctime)s - %(levelname)s - %(message)s'\n",
        ")\n",
        "\n",
        "def read_file(filename):\n",
        "    try:\n",
        "        with open(filename, 'r') as file:\n",
        "            content = file.read()\n",
        "            print(\"File content:\\n\", content)\n",
        "    except FileNotFoundError as e:\n",
        "        logging.error(\"FileNotFoundError: %s\", e)\n",
        "        print(f\"Error: The file '{filename}' was not found.\")\n",
        "    except Exception as e:\n",
        "        logging.error(\"Unexpected error: %s\", e)\n",
        "        print(\"An unexpected error occurred while reading the file.\")\n",
        "\n",
        "# Example usage\n",
        "file_name = 'non_existent_file.txt'  # Change this to a real file to test both outcomes\n",
        "read_file(file_name)\n"
      ],
      "metadata": {
        "colab": {
          "base_uri": "https://localhost:8080/"
        },
        "id": "Zq1e5KLjKjiG",
        "outputId": "930012ca-2fbc-4da8-b6aa-dba498afee90"
      },
      "execution_count": 48,
      "outputs": [
        {
          "output_type": "stream",
          "name": "stderr",
          "text": [
            "ERROR:root:FileNotFoundError: [Errno 2] No such file or directory: 'non_existent_file.txt'\n"
          ]
        },
        {
          "output_type": "stream",
          "name": "stdout",
          "text": [
            "Error: The file 'non_existent_file.txt' was not found.\n"
          ]
        }
      ]
    },
    {
      "cell_type": "code",
      "execution_count": null,
      "metadata": {
        "id": "X5vagrWn-ubO"
      },
      "outputs": [],
      "source": []
    }
  ],
  "metadata": {
    "colab": {
      "provenance": []
    },
    "kernelspec": {
      "display_name": "Python 3",
      "name": "python3"
    },
    "language_info": {
      "name": "python"
    }
  },
  "nbformat": 4,
  "nbformat_minor": 0
}